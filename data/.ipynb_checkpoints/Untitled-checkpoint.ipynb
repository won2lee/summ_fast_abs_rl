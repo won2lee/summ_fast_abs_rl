{
 "cells": [
  {
   "cell_type": "code",
   "execution_count": 1,
   "id": "wooden-wings",
   "metadata": {},
   "outputs": [],
   "source": [
    "import torch\n",
    "pre_trained = torch.load(\"pre_trained\")"
   ]
  },
  {
   "cell_type": "code",
   "execution_count": 2,
   "id": "treated-pilot",
   "metadata": {},
   "outputs": [
    {
     "data": {
      "text/plain": [
       "dict_keys(['voc', 'emb', 'en', 'ko'])"
      ]
     },
     "execution_count": 2,
     "metadata": {},
     "output_type": "execute_result"
    }
   ],
   "source": [
    "pre_trained.keys()"
   ]
  },
  {
   "cell_type": "code",
   "execution_count": 4,
   "id": "separated-intro",
   "metadata": {},
   "outputs": [
    {
     "data": {
      "text/plain": [
       "dict_keys(['sub_en_coder.weight_ih_l0', 'sub_en_coder.weight_hh_l0', 'sub_en_coder.bias_ih_l0', 'sub_en_coder.bias_hh_l0', 'sub_en_projection.weight', 'en_gate.weight'])"
      ]
     },
     "execution_count": 4,
     "metadata": {},
     "output_type": "execute_result"
    }
   ],
   "source": [
    "pre_trained['en'].keys()"
   ]
  },
  {
   "cell_type": "code",
   "execution_count": 5,
   "id": "posted-december",
   "metadata": {},
   "outputs": [],
   "source": [
    "keys={'voc': None,\n",
    " 'emb': ['model_embeddings.vocabs.weight'],\n",
    " 'en': ['sub_en_coder.weight_ih_l0',\n",
    "  'sub_en_coder.weight_hh_l0',\n",
    "  'sub_en_coder.bias_ih_l0',\n",
    "  'sub_en_coder.bias_hh_l0',\n",
    "  'sub_en_projection.weight',\n",
    "  'en_gate.weight'],\n",
    " 'ko': ['sub_ko_coder.weight_ih_l0',\n",
    "  'sub_ko_coder.weight_hh_l0',\n",
    "  'sub_ko_coder.bias_ih_l0',\n",
    "  'sub_ko_coder.bias_hh_l0',\n",
    "  'sub_ko_projection.weight',\n",
    "  'ko_gate.weight']}\n",
    "\n",
    "import re\n",
    "#keys() = {'en':pre_trained['en'].keys(), 'ko':pre_trained['ko'].keys()}\n",
    "lang = [\"en\",\"ko\"]\n",
    "lang_keys = {}\n",
    "p = re.compile(\"_(en|ko)_\")\n",
    "q = re.compile(\"^(?!(sub)).*?_\")\n",
    "for l in lang:\n",
    "    lang_keys[l] ={}\n",
    "    lang_keys[l] = {q.sub('sub_',p.sub('_',k)):k for k in pre_trained[l].keys()}"
   ]
  },
  {
   "cell_type": "code",
   "execution_count": 6,
   "id": "bottom-signal",
   "metadata": {},
   "outputs": [
    {
     "data": {
      "text/plain": [
       "{'en': {'sub_coder.weight_ih_l0': 'sub_en_coder.weight_ih_l0',\n",
       "  'sub_coder.weight_hh_l0': 'sub_en_coder.weight_hh_l0',\n",
       "  'sub_coder.bias_ih_l0': 'sub_en_coder.bias_ih_l0',\n",
       "  'sub_coder.bias_hh_l0': 'sub_en_coder.bias_hh_l0',\n",
       "  'sub_projection.weight': 'sub_en_projection.weight',\n",
       "  'sub_gate.weight': 'en_gate.weight'},\n",
       " 'ko': {'sub_coder.weight_ih_l0': 'sub_ko_coder.weight_ih_l0',\n",
       "  'sub_coder.weight_hh_l0': 'sub_ko_coder.weight_hh_l0',\n",
       "  'sub_coder.bias_ih_l0': 'sub_ko_coder.bias_ih_l0',\n",
       "  'sub_coder.bias_hh_l0': 'sub_ko_coder.bias_hh_l0',\n",
       "  'sub_projection.weight': 'sub_ko_projection.weight',\n",
       "  'sub_gate.weight': 'ko_gate.weight'}}"
      ]
     },
     "execution_count": 6,
     "metadata": {},
     "output_type": "execute_result"
    }
   ],
   "source": [
    "lang_keys"
   ]
  },
  {
   "cell_type": "code",
   "execution_count": 7,
   "id": "national-cooperative",
   "metadata": {},
   "outputs": [
    {
     "data": {
      "text/plain": [
       "10"
      ]
     },
     "execution_count": 7,
     "metadata": {},
     "output_type": "execute_result"
    }
   ],
   "source": [
    "aa = 10\n",
    "globals()['aa']"
   ]
  },
  {
   "cell_type": "code",
   "execution_count": 13,
   "id": "growing-friendly",
   "metadata": {},
   "outputs": [
    {
     "data": {
      "text/plain": [
       "tensor([[-0.1398, -0.3078,  0.2727,  ..., -0.3698, -0.3625, -0.0098],\n",
       "        [-0.2650,  0.2530, -0.1454,  ..., -0.0467,  0.6901,  0.6993],\n",
       "        [-0.2587, -0.0754, -0.2303,  ..., -0.0395, -0.2234,  0.4967],\n",
       "        ...,\n",
       "        [ 0.3693,  0.8389, -0.1592,  ..., -0.1106,  0.4690, -0.2278],\n",
       "        [-0.3165, -0.4145, -0.0798,  ...,  0.1935, -0.0433,  0.3494],\n",
       "        [-0.7066, -0.1133,  0.4853,  ..., -0.1097, -0.1706,  0.1369]])"
      ]
     },
     "execution_count": 13,
     "metadata": {},
     "output_type": "execute_result"
    }
   ],
   "source": [
    "pre_trained['en']['sub_en_coder.weight_ih_l0']"
   ]
  },
  {
   "cell_type": "code",
   "execution_count": 9,
   "id": "extended-browse",
   "metadata": {},
   "outputs": [],
   "source": [
    "import torch.nn as nn"
   ]
  },
  {
   "cell_type": "code",
   "execution_count": 10,
   "id": "similar-crawford",
   "metadata": {},
   "outputs": [],
   "source": [
    "lstmM = nn.LSTM(30,20)"
   ]
  },
  {
   "cell_type": "code",
   "execution_count": 12,
   "id": "split-cooler",
   "metadata": {},
   "outputs": [
    {
     "data": {
      "text/plain": [
       "LSTM(30, 20)"
      ]
     },
     "execution_count": 12,
     "metadata": {},
     "output_type": "execute_result"
    }
   ],
   "source": [
    "globals()['lstmM']"
   ]
  },
  {
   "cell_type": "code",
   "execution_count": null,
   "id": "operational-northern",
   "metadata": {},
   "outputs": [],
   "source": []
  }
 ],
 "metadata": {
  "kernelspec": {
   "display_name": "Python 3",
   "language": "python",
   "name": "python3"
  },
  "language_info": {
   "codemirror_mode": {
    "name": "ipython",
    "version": 3
   },
   "file_extension": ".py",
   "mimetype": "text/x-python",
   "name": "python",
   "nbconvert_exporter": "python",
   "pygments_lexer": "ipython3",
   "version": "3.7.9"
  }
 },
 "nbformat": 4,
 "nbformat_minor": 5
}
