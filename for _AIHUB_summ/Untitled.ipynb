{
 "cells": [
  {
   "cell_type": "code",
   "execution_count": 11,
   "id": "narrow-observation",
   "metadata": {},
   "outputs": [
    {
     "name": "stdout",
     "output_type": "stream",
     "text": [
      "Writing make_files_for_aihub.py\n"
     ]
    }
   ],
   "source": [
    "%%writefile make_files_for_aihub.py\n",
    "from glob import glob\n",
    "import json\n",
    "import torch\n",
    "import numpy as np\n",
    "\n",
    "def make_new_fileset():\n",
    "    in_path = \"finished_files/test/\"\n",
    "    out_path = \"test_folder/\"\n",
    "    flist = glob(in_path +\"*\")\n",
    "    new_flist = []\n",
    "    ext_snts = []\n",
    "    abs_snt = []\n",
    "    for fn in flist[:1000]:\n",
    "        jd = json.load(open(fn,\"r\"))\n",
    "        art = jd['article']\n",
    "        ext = [art[ix].split() for ix in jd['extracted']]\n",
    "        abss = jd[\"abstract\"].split()\n",
    "        i_match = sorted([(i,len(set(s,abss))) for i,s in enumerate(ext)], key=lambda x:x[1], reverse=True)[0]\n",
    "        if len(ext[i_match[0]]) > len(abss):\n",
    "            new_flist.append(fn)\n",
    "            ext_snts.append(ext[i_match])\n",
    "            abs_snt.append(abss)\n",
    "\n",
    "    ext_snt_len = [len(s) for s in ext_snts]\n",
    "    abs_snt_len = [len(s) for s in abs_snts]   \n",
    "    print(f\"extracted sent_len  : mean = {np.mean(ext_snt_len)},  std = {np.std(ext_snt_len)}\")\n",
    "    print(f\"abstracted sent_len : mean = {np.mean(abs_snt_len)},  std = {np.std(abs_snt_len)}\")\n",
    "    print(f\"tot num of flist      : {len(flist)}\")\n",
    "    print(f\"num of selected flist : {len(new_flist)}\")\n",
    "    \n",
    "if __name__ == '__main__':\n",
    "    make_new_fileslist()"
   ]
  },
  {
   "cell_type": "code",
   "execution_count": 8,
   "id": "turned-sunrise",
   "metadata": {},
   "outputs": [
    {
     "data": {
      "text/plain": [
       "tensor(2)"
      ]
     },
     "execution_count": 8,
     "metadata": {},
     "output_type": "execute_result"
    }
   ],
   "source": [
    "torch.max(torch.Tensor([1,2,3]),0)[1]"
   ]
  },
  {
   "cell_type": "code",
   "execution_count": 10,
   "id": "muslim-elevation",
   "metadata": {},
   "outputs": [
    {
     "data": {
      "text/plain": [
       "3"
      ]
     },
     "execution_count": 10,
     "metadata": {},
     "output_type": "execute_result"
    }
   ],
   "source": [
    "max([1,2,3])"
   ]
  },
  {
   "cell_type": "code",
   "execution_count": null,
   "id": "czech-grass",
   "metadata": {},
   "outputs": [],
   "source": []
  }
 ],
 "metadata": {
  "kernelspec": {
   "display_name": "Python 3",
   "language": "python",
   "name": "python3"
  },
  "language_info": {
   "codemirror_mode": {
    "name": "ipython",
    "version": 3
   },
   "file_extension": ".py",
   "mimetype": "text/x-python",
   "name": "python",
   "nbconvert_exporter": "python",
   "pygments_lexer": "ipython3",
   "version": "3.7.9"
  }
 },
 "nbformat": 4,
 "nbformat_minor": 5
}
